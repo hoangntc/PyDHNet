{
 "cells": [
  {
   "cell_type": "code",
   "execution_count": 1,
   "id": "b7706b31",
   "metadata": {
    "scrolled": true
   },
   "outputs": [
    {
     "data": {
      "text/html": [
       "<style>.container { width:100% !important; }</style>"
      ],
      "text/plain": [
       "<IPython.core.display.HTML object>"
      ]
     },
     "metadata": {},
     "output_type": "display_data"
    }
   ],
   "source": [
    "%load_ext autoreload\n",
    "%autoreload 2\n",
    "from IPython.display import display, HTML\n",
    "display(HTML(\"<style>.container { width:100% !important; }</style>\"))\n",
    "\n",
    "import os, re, sys\n",
    "from pathlib import Path\n",
    "PROJ_PATH = Path(os.path.join(re.sub(\"/PyDHNet.*$\", '', os.getcwd()), 'PyDHNet'))\n",
    "sys.path.insert(1, str(PROJ_PATH / 'PyDHNet'))\n",
    "sys.path.insert(1, str(PROJ_PATH / 'PyDHNet' / 'src'))"
   ]
  },
  {
   "cell_type": "markdown",
   "id": "16011e61",
   "metadata": {
    "heading_collapsed": true
   },
   "source": [
    "## Network Representation Learning"
   ]
  },
  {
   "cell_type": "code",
   "execution_count": 2,
   "id": "97b78ec6",
   "metadata": {
    "hidden": true
   },
   "outputs": [],
   "source": [
    "from PyDHNet import PyDHNet\n",
    "pydhnet = PyDHNet(config_path='./PyDHNet/config/dblp.json')"
   ]
  },
  {
   "cell_type": "code",
   "execution_count": 3,
   "id": "b35cba7a",
   "metadata": {
    "hidden": true
   },
   "outputs": [
    {
     "data": {
      "text/plain": [
       "OrderedDict([('name', 'dblp'),\n",
       "             ('num_time_steps', 8),\n",
       "             ('max_size', 5),\n",
       "             ('seed', 0),\n",
       "             ('multilabel', True),\n",
       "             ('num_workers', 0),\n",
       "             ('sample_walk_len', 15),\n",
       "             ('random_walk_len', 15),\n",
       "             ('structure_patch_type', 'triangular_random_walk'),\n",
       "             ('max_sim_epochs', 5),\n",
       "             ('n_anchor_patches_structure', 45),\n",
       "             ('n_triangular_walks', 10),\n",
       "             ('n_processes', 4),\n",
       "             ('batch_size', 64),\n",
       "             ('meta_paths',\n",
       "              '0-1-0-1-0-1-0-1-0-1-0-1-0-1-0-1-0-1-0-1-0-1-0-1-0-1-0-1-0-1-0-1-0 1-0-1-0-1-0-1-0-1-0-1-0-1-0-1-0-1-0-1-0-1-0-1-0-1-0-1-0-1-0-1-0-1 1-2-1-2-2-1-2-2-1-2-2-1-2-2-1-2-2-1-2-2-1-2-2-1-2-2-1-2-2-1-2-2-1 2-1-2-2-1-2-2-1-2-2-1-2-2-1-2-2-1-2-2-1-2-2-1-2-2-1-2-2-1-2-2-1-2 0-1-2-1-0-1-2-1-0-1-2-1-0-1-2-1-0-1-2-1-0-1-2-1-0-1-2-1-0-1-2-1-0 1-2-1-0-1-2-1-0-1-2-1-0-1-2-1-0-1-2-1-0-1-2-1-0-1-2-1-0-1-2-1-0-1 2-1-0-1-2-1-0-1-2-1-0-1-2-1-0-1-2-1-0-1-2-1-0-1-2-1-0-1-2-1-0-1-2'),\n",
       "             ('use_mpn_projection', True),\n",
       "             ('lstm_aggregator', 'sum'),\n",
       "             ('lstm_n_layers', 2),\n",
       "             ('subg_n_layers', 2),\n",
       "             ('node_embed_size', 128),\n",
       "             ('subg_hidden_dim', 128),\n",
       "             ('hidden_dim', 128),\n",
       "             ('emb_dim', 128),\n",
       "             ('dropout_prob', 0.1),\n",
       "             ('n_heads', 4),\n",
       "             ('learning_rate', 0.0001),\n",
       "             ('num_labels', 4),\n",
       "             ('checkpoint_dir', '../model/'),\n",
       "             ('top_k', 50),\n",
       "             ('max_epochs', 30),\n",
       "             ('metric', 'val_micro_f1'),\n",
       "             ('patience', 100),\n",
       "             ('mode', 'max')])"
      ]
     },
     "execution_count": 3,
     "metadata": {},
     "output_type": "execute_result"
    }
   ],
   "source": [
    "pydhnet.config"
   ]
  },
  {
   "cell_type": "code",
   "execution_count": null,
   "id": "e565af8c",
   "metadata": {
    "hidden": true
   },
   "outputs": [],
   "source": [
    "# Preprocess data\n",
    "pydhnet.preprocess_data()"
   ]
  },
  {
   "cell_type": "code",
   "execution_count": null,
   "id": "e6864ab3",
   "metadata": {
    "hidden": true
   },
   "outputs": [],
   "source": [
    "# Initialize data, model, trainer\n",
    "data_module, model_module, trainer = pydhnet.initialize()"
   ]
  },
  {
   "cell_type": "code",
   "execution_count": null,
   "id": "0e95d266",
   "metadata": {
    "hidden": true
   },
   "outputs": [],
   "source": [
    "# Train\n",
    "data_module, model_module, trainer = pydhnet.initialize()\n",
    "pydhnet.train(data_module, model_module, trainer)"
   ]
  },
  {
   "cell_type": "code",
   "execution_count": null,
   "id": "6899f6ac",
   "metadata": {
    "hidden": true
   },
   "outputs": [],
   "source": [
    "# Test with all checkpoints\n",
    "data_module, model_module, trainer = pydhnet.initialize()\n",
    "checkpoint_paths = pydhnet.get_checkpoint_paths()\n",
    "for checkpoint_path in checkpoint_paths:\n",
    "    pydhnet.test(data_module, model_module, trainer, checkpoint_path)"
   ]
  },
  {
   "cell_type": "code",
   "execution_count": null,
   "id": "4855eb70",
   "metadata": {
    "hidden": true
   },
   "outputs": [],
   "source": [
    "# Infer with the last checkpoints\n",
    "checkpoint_paths = pydhnet.get_checkpoint_paths()\n",
    "restore_model_dir = str(pydhnet.config['checkpoint_dir'])\n",
    "restore_model_name = str(checkpoint_paths[-1].name)\n",
    "output_dir = str(PROJ_PATH / 'output')\n",
    "pydhnet.generate_embedding(data_module, model_module, restore_model_dir, restore_model_name, output_dir)"
   ]
  },
  {
   "cell_type": "markdown",
   "id": "3efd50c1",
   "metadata": {
    "heading_collapsed": true
   },
   "source": [
    "## Evaluation"
   ]
  },
  {
   "cell_type": "code",
   "execution_count": 3,
   "id": "b0ca4908",
   "metadata": {
    "hidden": true
   },
   "outputs": [
    {
     "name": "stderr",
     "output_type": "stream",
     "text": [
      "/home/hoang/miniconda2/envs/dyhnet/lib/python3.9/site-packages/tqdm/auto.py:22: TqdmWarning: IProgress not found. Please update jupyter and ipywidgets. See https://ipywidgets.readthedocs.io/en/stable/user_install.html\n",
      "  from .autonotebook import tqdm as notebook_tqdm\n"
     ]
    }
   ],
   "source": [
    "from evaluation import predict_link_without_classifier, predict_link_with_classifier"
   ]
  },
  {
   "cell_type": "code",
   "execution_count": 4,
   "id": "f35e5dbb",
   "metadata": {
    "hidden": true
   },
   "outputs": [],
   "source": [
    "df = pd.DataFrame(np.random.randint(0, 100, size=(100, 4)), columns=['f1', 'f2', 'f3', 'f4'])\n",
    "df['tvt'] = ['train'] * 60 + ['val'] * 20 + ['test'] * 20\n",
    "labels = 50 * [1] + 50 * [0]# + 30 * [2]\n",
    "random.shuffle(labels)\n",
    "df['label'] = labels"
   ]
  },
  {
   "cell_type": "code",
   "execution_count": 8,
   "id": "47274a85",
   "metadata": {
    "hidden": true
   },
   "outputs": [
    {
     "name": "stdout",
     "output_type": "stream",
     "text": [
      "{'accuracy': {'train': 0.6166666666666667, 'val': 0.4, 'test': 0.45}, 'auc': {'train': 0.6318131256952169, 'val': 0.4166666666666667, 'test': 0.4444444444444444}, 'f1': {'train': 0.634920634920635, 'val': 0.45454545454545453, 'test': 0.5217391304347826}}\n"
     ]
    },
    {
     "data": {
      "text/html": [
       "<div>\n",
       "<style scoped>\n",
       "    .dataframe tbody tr th:only-of-type {\n",
       "        vertical-align: middle;\n",
       "    }\n",
       "\n",
       "    .dataframe tbody tr th {\n",
       "        vertical-align: top;\n",
       "    }\n",
       "\n",
       "    .dataframe thead th {\n",
       "        text-align: right;\n",
       "    }\n",
       "</style>\n",
       "<table border=\"1\" class=\"dataframe\">\n",
       "  <thead>\n",
       "    <tr style=\"text-align: right;\">\n",
       "      <th></th>\n",
       "      <th>accuracy</th>\n",
       "      <th>auc</th>\n",
       "      <th>f1</th>\n",
       "    </tr>\n",
       "  </thead>\n",
       "  <tbody>\n",
       "    <tr>\n",
       "      <th>train</th>\n",
       "      <td>0.616667</td>\n",
       "      <td>0.631813</td>\n",
       "      <td>0.634921</td>\n",
       "    </tr>\n",
       "    <tr>\n",
       "      <th>val</th>\n",
       "      <td>0.400000</td>\n",
       "      <td>0.416667</td>\n",
       "      <td>0.454545</td>\n",
       "    </tr>\n",
       "    <tr>\n",
       "      <th>test</th>\n",
       "      <td>0.450000</td>\n",
       "      <td>0.444444</td>\n",
       "      <td>0.521739</td>\n",
       "    </tr>\n",
       "  </tbody>\n",
       "</table>\n",
       "</div>"
      ],
      "text/plain": [
       "       accuracy       auc        f1\n",
       "train  0.616667  0.631813  0.634921\n",
       "val    0.400000  0.416667  0.454545\n",
       "test   0.450000  0.444444  0.521739"
      ]
     },
     "metadata": {},
     "output_type": "display_data"
    }
   ],
   "source": [
    "features = df[['f1', 'f2', 'f3', 'f4']].values.tolist()\n",
    "labels = df['label'].values.tolist()\n",
    "train_val_test_index = df['tvt'].values.tolist()\n",
    "results, models = eval_node_classification(features, labels, train_val_test_index)\n",
    "display(pd.DataFrame(results))"
   ]
  },
  {
   "cell_type": "code",
   "execution_count": 9,
   "id": "d6794c04",
   "metadata": {
    "hidden": true
   },
   "outputs": [
    {
     "name": "stdout",
     "output_type": "stream",
     "text": [
      "{'sigmoid_auc': {'train': 0.5, 'val': 0.5, 'test': 0.5}, 'sigmoid_f1': {'train': 0.6813186813186815, 'val': 0.5714285714285715, 'test': 0.7096774193548387}, 'HAD_auc': {'train': 0.5706340378197998, 'val': 0.34375, 'test': 0.42424242424242425}, 'HAD_f1': {'train': 0.6753246753246753, 'val': 0.56, 'test': 0.4999999999999999}, 'AVG_auc': {'train': 0.5750834260289212, 'val': 0.3125, 'test': 0.46464646464646464}, 'AVG_f1': {'train': 0.5538461538461539, 'val': 0.43478260869565216, 'test': 0.5217391304347826}, 'L1_auc': {'train': 0.6095661846496107, 'val': 0.65625, 'test': 0.3434343434343434}, 'L1_f1': {'train': 0.4918032786885246, 'val': 0.5555555555555556, 'test': 0.380952380952381}, 'L2_auc': {'train': 0.5717463848720801, 'val': 0.6666666666666666, 'test': 0.36363636363636365}, 'L2_f1': {'train': 0.5671641791044777, 'val': 0.5714285714285714, 'test': 0.45454545454545453}}\n"
     ]
    },
    {
     "data": {
      "text/html": [
       "<div>\n",
       "<style scoped>\n",
       "    .dataframe tbody tr th:only-of-type {\n",
       "        vertical-align: middle;\n",
       "    }\n",
       "\n",
       "    .dataframe tbody tr th {\n",
       "        vertical-align: top;\n",
       "    }\n",
       "\n",
       "    .dataframe thead th {\n",
       "        text-align: right;\n",
       "    }\n",
       "</style>\n",
       "<table border=\"1\" class=\"dataframe\">\n",
       "  <thead>\n",
       "    <tr style=\"text-align: right;\">\n",
       "      <th></th>\n",
       "      <th>sigmoid_auc</th>\n",
       "      <th>sigmoid_f1</th>\n",
       "      <th>HAD_auc</th>\n",
       "      <th>HAD_f1</th>\n",
       "      <th>AVG_auc</th>\n",
       "      <th>AVG_f1</th>\n",
       "      <th>L1_auc</th>\n",
       "      <th>L1_f1</th>\n",
       "      <th>L2_auc</th>\n",
       "      <th>L2_f1</th>\n",
       "    </tr>\n",
       "  </thead>\n",
       "  <tbody>\n",
       "    <tr>\n",
       "      <th>train</th>\n",
       "      <td>0.5</td>\n",
       "      <td>0.681319</td>\n",
       "      <td>0.570634</td>\n",
       "      <td>0.675325</td>\n",
       "      <td>0.575083</td>\n",
       "      <td>0.553846</td>\n",
       "      <td>0.609566</td>\n",
       "      <td>0.491803</td>\n",
       "      <td>0.571746</td>\n",
       "      <td>0.567164</td>\n",
       "    </tr>\n",
       "    <tr>\n",
       "      <th>val</th>\n",
       "      <td>0.5</td>\n",
       "      <td>0.571429</td>\n",
       "      <td>0.343750</td>\n",
       "      <td>0.560000</td>\n",
       "      <td>0.312500</td>\n",
       "      <td>0.434783</td>\n",
       "      <td>0.656250</td>\n",
       "      <td>0.555556</td>\n",
       "      <td>0.666667</td>\n",
       "      <td>0.571429</td>\n",
       "    </tr>\n",
       "    <tr>\n",
       "      <th>test</th>\n",
       "      <td>0.5</td>\n",
       "      <td>0.709677</td>\n",
       "      <td>0.424242</td>\n",
       "      <td>0.500000</td>\n",
       "      <td>0.464646</td>\n",
       "      <td>0.521739</td>\n",
       "      <td>0.343434</td>\n",
       "      <td>0.380952</td>\n",
       "      <td>0.363636</td>\n",
       "      <td>0.454545</td>\n",
       "    </tr>\n",
       "  </tbody>\n",
       "</table>\n",
       "</div>"
      ],
      "text/plain": [
       "       sigmoid_auc  sigmoid_f1   HAD_auc    HAD_f1   AVG_auc    AVG_f1  \\\n",
       "train          0.5    0.681319  0.570634  0.675325  0.575083  0.553846   \n",
       "val            0.5    0.571429  0.343750  0.560000  0.312500  0.434783   \n",
       "test           0.5    0.709677  0.424242  0.500000  0.464646  0.521739   \n",
       "\n",
       "         L1_auc     L1_f1    L2_auc     L2_f1  \n",
       "train  0.609566  0.491803  0.571746  0.567164  \n",
       "val    0.656250  0.555556  0.666667  0.571429  \n",
       "test   0.343434  0.380952  0.363636  0.454545  "
      ]
     },
     "metadata": {},
     "output_type": "display_data"
    }
   ],
   "source": [
    "source_features = df[['f1', 'f2']].values.tolist()\n",
    "target_features = df[['f3', 'f4']].values.tolist()\n",
    "labels = df['label'].values.tolist()\n",
    "train_val_test_index = df['tvt'].values.tolist()\n",
    "results, models = eval_link_prediction(source_features, target_features, labels, train_val_test_index)\n",
    "display(pd.DataFrame(results))"
   ]
  },
  {
   "cell_type": "markdown",
   "id": "932edae7",
   "metadata": {},
   "source": [
    "## Subgraph sampling"
   ]
  },
  {
   "cell_type": "code",
   "execution_count": 5,
   "id": "afa25e40",
   "metadata": {},
   "outputs": [
    {
     "name": "stdout",
     "output_type": "stream",
     "text": [
      "Sampling subgraph at time id: 0\n"
     ]
    },
    {
     "name": "stderr",
     "output_type": "stream",
     "text": [
      "100%|███████████████████████████████████████████████████████████████████████████████████████████████████████████████████████████████████████████████| 3/3 [00:00<00:00, 39.79it/s]\n"
     ]
    },
    {
     "name": "stdout",
     "output_type": "stream",
     "text": [
      "Sampling subgraph at time id: 1\n"
     ]
    },
    {
     "name": "stderr",
     "output_type": "stream",
     "text": [
      "100%|███████████████████████████████████████████████████████████████████████████████████████████████████████████████████████████████████████████████| 3/3 [00:00<00:00, 12.52it/s]\n"
     ]
    },
    {
     "name": "stdout",
     "output_type": "stream",
     "text": [
      "Sampling subgraph at time id: 2\n"
     ]
    },
    {
     "name": "stderr",
     "output_type": "stream",
     "text": [
      "100%|███████████████████████████████████████████████████████████████████████████████████████████████████████████████████████████████████████████████| 3/3 [00:00<00:00, 32.61it/s]\n"
     ]
    },
    {
     "name": "stdout",
     "output_type": "stream",
     "text": [
      "Sampling subgraph at time id: 3\n"
     ]
    },
    {
     "name": "stderr",
     "output_type": "stream",
     "text": [
      "100%|███████████████████████████████████████████████████████████████████████████████████████████████████████████████████████████████████████████████| 3/3 [00:00<00:00, 32.01it/s]\n"
     ]
    },
    {
     "name": "stdout",
     "output_type": "stream",
     "text": [
      "Sampling subgraph at time id: 4\n"
     ]
    },
    {
     "name": "stderr",
     "output_type": "stream",
     "text": [
      "100%|███████████████████████████████████████████████████████████████████████████████████████████████████████████████████████████████████████████████| 3/3 [00:00<00:00, 30.42it/s]\n"
     ]
    },
    {
     "name": "stdout",
     "output_type": "stream",
     "text": [
      "Sampling subgraph at time id: 5\n"
     ]
    },
    {
     "name": "stderr",
     "output_type": "stream",
     "text": [
      "100%|███████████████████████████████████████████████████████████████████████████████████████████████████████████████████████████████████████████████| 3/3 [00:00<00:00, 29.41it/s]\n"
     ]
    },
    {
     "name": "stdout",
     "output_type": "stream",
     "text": [
      "Sampling subgraph at time id: 6\n"
     ]
    },
    {
     "name": "stderr",
     "output_type": "stream",
     "text": [
      "100%|███████████████████████████████████████████████████████████████████████████████████████████████████████████████████████████████████████████████| 3/3 [00:00<00:00, 29.39it/s]\n"
     ]
    },
    {
     "name": "stdout",
     "output_type": "stream",
     "text": [
      "Sampling subgraph at time id: 7\n"
     ]
    },
    {
     "name": "stderr",
     "output_type": "stream",
     "text": [
      "100%|███████████████████████████████████████████████████████████████████████████████████████████████████████████████████████████████████████████████| 3/3 [00:00<00:00, 38.00it/s]\n"
     ]
    }
   ],
   "source": [
    "from subgraph_sampler import TemporalSubgraphSampler\n",
    "sampler = TemporalSubgraphSampler(\n",
    "    node_path='/home/hoang/github/PyDHNet/dataset/dblp/node_types.csv',\n",
    "    edge_path='/home/hoang/github/PyDHNet/dataset/dblp/temporal_edge_list.txt', \n",
    "    sampled_node_ids=[0, 1, 2], \n",
    "    max_size=5, \n",
    "    number_of_nodes=20,\n",
    "    seed=0,\n",
    "    output_dir='./',\n",
    ")\n",
    "\n",
    "sampler.sampling_temporal_subgraph()\n",
    "sampler.write_temporal_subgraphs()"
   ]
  },
  {
   "cell_type": "code",
   "execution_count": null,
   "id": "1f441766",
   "metadata": {},
   "outputs": [],
   "source": []
  }
 ],
 "metadata": {
  "kernelspec": {
   "display_name": "Python 3 (ipykernel)",
   "language": "python",
   "name": "python3"
  },
  "language_info": {
   "codemirror_mode": {
    "name": "ipython",
    "version": 3
   },
   "file_extension": ".py",
   "mimetype": "text/x-python",
   "name": "python",
   "nbconvert_exporter": "python",
   "pygments_lexer": "ipython3",
   "version": "3.9.12"
  },
  "toc": {
   "base_numbering": 1,
   "nav_menu": {},
   "number_sections": true,
   "sideBar": true,
   "skip_h1_title": false,
   "title_cell": "Table of Contents",
   "title_sidebar": "Contents",
   "toc_cell": false,
   "toc_position": {
    "height": "calc(100% - 180px)",
    "left": "10px",
    "top": "150px",
    "width": "247.002px"
   },
   "toc_section_display": true,
   "toc_window_display": false
  }
 },
 "nbformat": 4,
 "nbformat_minor": 5
}
